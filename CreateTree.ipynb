{
 "cells": [
  {
   "cell_type": "code",
   "execution_count": 97,
   "id": "653b866c",
   "metadata": {
    "scrolled": true
   },
   "outputs": [],
   "source": [
    "## This code will analyze dump from the executable\n",
    "import matplotlib.pyplot as plt\n",
    "from collections import OrderedDict\n",
    "from collections import defaultdict\n",
    "import math\n",
    "import numpy as np"
   ]
  },
  {
   "cell_type": "code",
   "execution_count": 98,
   "id": "be988ee8",
   "metadata": {},
   "outputs": [],
   "source": [
    "## Create the tree dictionary for a given file\n",
    "\n",
    "def createTreeDict(fileName):\n",
    "    count = 0\n",
    "    myGraph = {}\n",
    "    myParent = {}\n",
    "    with open(fileName) as file:\n",
    "            for line in file:\n",
    "                if \"[GM] Created a new state\" in line:\n",
    "                    count += 1\n",
    "                    spLine = line.split(\",\")\n",
    "                    p = spLine[2].strip().split(\":\")[1]\n",
    "                    c = spLine[1].strip().split(\":\")[1]\n",
    "                    if p not in myGraph:\n",
    "                        myGraph[p] = set()\n",
    "                    if p not in myParent:\n",
    "                        myParent[p] = set()\n",
    "                    if c not in myGraph:\n",
    "                        myGraph[c] = set()\n",
    "                    if c not in myParent:\n",
    "                        myParent[c] = set()\n",
    "\n",
    "                    myGraph[c].add(p)\n",
    "                    myParent[p].add(c)\n",
    "    print(\"Number of Nodes: \",count)\n",
    "    return myGraph,myParent\n",
    "\n",
    "## Get the root Node of the graph\n",
    "def find_roots(data):\n",
    "    all_children = {child for children in data.values() for child in children}\n",
    "    return [key for key in data.keys() if key not in all_children]\n",
    "\n",
    "def nodeCountwithChildren(graph):\n",
    "    return len(graph.keys())\n",
    "\n",
    "def childDistribution(graph): ## Provides the number of node per child count\n",
    "    child_count = {}\n",
    "    ## Analyze the child count\n",
    "    for key in graph.keys():\n",
    "        ch_Count = len(graph[key])\n",
    "        if ch_Count not in child_count:\n",
    "            child_count[ch_Count] = 0\n",
    "        child_count[ch_Count] += 1\n",
    "    ch_c = OrderedDict(sorted(child_count.items()))\n",
    "    return ch_c\n",
    "\n",
    "    \n",
    "def parentDistribution(parent_graph):  ## Provides the number of node per parent count\n",
    "    parent_count = {}\n",
    "    ## Analyze the child count\n",
    "    for key in parent_graph.keys():\n",
    "        ch_Count = len(parent_graph[key])\n",
    "        if ch_Count not in parent_count:\n",
    "            parent_count[ch_Count] = 0\n",
    "        parent_count[ch_Count] += 1\n",
    "    # parent_count\n",
    "    ph_c = OrderedDict(sorted(parent_count.items()))\n",
    "    return ph_c\n",
    "\n",
    "def printDistributionGraph(distr):\n",
    "    my_str = \"\"\n",
    "    for key in distr:\n",
    "        my_str += f\" {key}->{distr[key]} ::\"\n",
    "    print(\"Distribution \"+my_str)\n",
    "    return\n",
    "\n",
    "\n",
    "def node_per_level(graph):\n",
    "   \n",
    "    node_level = {}\n",
    "    count_node_level = defaultdict(int)\n",
    "\n",
    "    rootNode = find_roots(graph)[0]\n",
    "\n",
    "    def populateParent(myGraph,node,myLevel=0):\n",
    "        if node not in node_level:\n",
    "            node_level[node] = myLevel\n",
    "            count_node_level[myLevel] += 1\n",
    "        for child in myGraph[node]:\n",
    "            populateParent(myGraph,child,myLevel+1)\n",
    "        return\n",
    "    populateParent(graph,rootNode,0)\n",
    "    node_level_dist = OrderedDict(sorted(count_node_level.items(),reverse=True))\n",
    "    return node_level_dist,node_level\n",
    "\n",
    "\n",
    "\n",
    "def plot_parent_collision(parent_distr,title=\"Parent Collision\"):\n",
    "    n_parent = []\n",
    "    n_node = []\n",
    "\n",
    "    for key in parent_distr:\n",
    "        n_parent.append(key)\n",
    "        n_node.append(parent_distr[key])\n",
    "\n",
    "\n",
    "    plt.plot(n_parent,n_node)\n",
    "    plt.xlabel(\"Number of parents (# Collision)\")\n",
    "    plt.ylabel(\"Number of nodes\")\n",
    "    plt.title(title)\n",
    "    plt.show()\n",
    "    return\n",
    "\n",
    "def plot_child_collision(child_distr,title=\"Child Distribution\"):\n",
    "    n_child = []\n",
    "    n_node = []\n",
    "\n",
    "    for key in child_distr:\n",
    "        n_child.append(key)\n",
    "        n_node.append(child_distr[key])\n",
    "\n",
    "\n",
    "    plt.plot(n_child,n_node)\n",
    "    plt.xlabel(\"Number of child\")\n",
    "    plt.ylabel(\"Number of nodes\")\n",
    "    plt.title(title)\n",
    "    plt.show()\n",
    "    return\n",
    "\n",
    "def plot_node_level_distribution(node_level_dist,title=\"Nodes at each level\"):    \n",
    "    x = node_level_dist.keys()\n",
    "    # ns = np.arange(1,11)\n",
    "    vals = [node_level_dist[k] for k in node_level_dist.keys() ]\n",
    "    nvals = [-node_level_dist[k] for k in node_level_dist.keys() ]\n",
    "    mval = min(nvals)\n",
    "    # print(max(vals))\n",
    "\n",
    "    # xtickV = [abs(mval)+t for t in tickVal]\n",
    "\n",
    "    # for n in ns:\n",
    "    plt.fill_betweenx(x, nvals, vals, color=\"C0\", alpha=0.5)\n",
    "    xticks = plt.gca().get_xticks()\n",
    "    # constant_value = 5\n",
    "    # new_xticks = xticks + abs(mval)\n",
    "    plt.xticks(xticks, labels=[f'{abs(int(tick))}' for tick in xticks])\n",
    "    plt.gca().invert_yaxis()\n",
    "    # plt.xlim(left=-108.5,right=110)\n",
    "    plt.xlabel(\"Amount of nodes\")\n",
    "    plt.ylabel(\"Node Level\")\n",
    "    # plt.xticks(xtickV)\n",
    "    # plt.xticks(ns)\n",
    "    plt.title(title)\n",
    "    plt.show() \n",
    "    return\n",
    "\n",
    "\n",
    "def scaling_time(node_per_level, n=1):\n",
    "    tot_basic = 0\n",
    "    for key in node_per_level:\n",
    "        tot_basic += node_per_level[key]\n",
    "    \n",
    "    tot_scaled = 0\n",
    "    for key in node_per_level:\n",
    "        tot_scaled += math.ceil(node_per_level[key]/n)\n",
    "    \n",
    "    return tot_basic/tot_scaled\n",
    "\n",
    "def plot_scaling_benefit(node_level_dist,max_core=250):\n",
    "    x = []\n",
    "    y = []\n",
    "    for ix in range(1,max_core):\n",
    "        x.append(ix)\n",
    "        y.append(scaling_time(node_level_dist,ix))\n",
    "    plt.plot(x,y)\n",
    "    plt.xlabel(\"Number of cores\")\n",
    "    plt.ylabel(\"Performance Scaling\")\n",
    "    plt.title(\"Theoretical Improvement of MAUDE \")\n",
    "    plt.show()\n",
    "    return\n"
   ]
  },
  {
   "cell_type": "code",
   "execution_count": null,
   "id": "636a8a21",
   "metadata": {},
   "outputs": [],
   "source": []
  },
  {
   "cell_type": "code",
   "execution_count": 99,
   "id": "76ba6164",
   "metadata": {},
   "outputs": [],
   "source": [
    "FILE_EVALUATED = \"TraceBank-T2.txt\" ## Change file to study"
   ]
  },
  {
   "cell_type": "code",
   "execution_count": 101,
   "id": "d910d3cd",
   "metadata": {},
   "outputs": [
    {
     "name": "stdout",
     "output_type": "stream",
     "text": [
      "Number of Nodes:  1632\n"
     ]
    },
    {
     "data": {
      "text/plain": [
       "{'1001248288147055930',\n",
       " '12498662836822447034',\n",
       " '14741028695232287396',\n",
       " '15465925069674478135',\n",
       " '17221037162903479674',\n",
       " '473686884182430523',\n",
       " '6321892627716298568',\n",
       " '8675405696551876505',\n",
       " '9542668905756349371'}"
      ]
     },
     "execution_count": 101,
     "metadata": {},
     "output_type": "execute_result"
    }
   ],
   "source": [
    "myGraph,myParent = createTreeDict(FILE_EVALUATED)\n",
    "rootNode = find_roots(myGraph)[0]# Assuming it has one node for general MAUDE. Note: MAUDE-NPA will have different behaviour\n",
    "myGraph[rootNode]"
   ]
  },
  {
   "cell_type": "code",
   "execution_count": 102,
   "id": "da966c44",
   "metadata": {},
   "outputs": [],
   "source": [
    "child_distribution = childDistribution(myGraph)"
   ]
  },
  {
   "cell_type": "code",
   "execution_count": 103,
   "id": "2fea790b",
   "metadata": {},
   "outputs": [],
   "source": [
    "parent_distribution = parentDistribution(myParent)"
   ]
  },
  {
   "cell_type": "code",
   "execution_count": 87,
   "id": "bd9813d7",
   "metadata": {},
   "outputs": [
    {
     "name": "stdout",
     "output_type": "stream",
     "text": [
      "Distribution  0->1 :: 1->20 :: 2->97 :: 3->191 :: 4->170 :: 5->33 ::\n"
     ]
    }
   ],
   "source": [
    "printDistributionGraph(parent_distribution)"
   ]
  },
  {
   "cell_type": "code",
   "execution_count": 120,
   "id": "05ef7bdd",
   "metadata": {},
   "outputs": [
    {
     "data": {
      "image/png": "[encoded data removed]",
      "text/plain": [
       "<Figure size 432x288 with 1 Axes>"
      ]
     },
     "metadata": {
      "needs_background": "light"
     },
     "output_type": "display_data"
    }
   ],
   "source": [
    "plot_parent_collision(parent_distribution,title=\"Parent Collision\")"
   ]
  },
  {
   "cell_type": "code",
   "execution_count": 121,
   "id": "25304ccf",
   "metadata": {},
   "outputs": [
    {
     "name": "stdout",
     "output_type": "stream",
     "text": [
      "Distribution  0->24 :: 1->64 :: 2->110 :: 3->112 :: 4->87 :: 5->58 :: 6->33 :: 7->17 :: 8->6 :: 9->1 ::\n"
     ]
    }
   ],
   "source": [
    "printDistributionGraph(child_distribution)"
   ]
  },
  {
   "cell_type": "code",
   "execution_count": 122,
   "id": "e9eb4752",
   "metadata": {},
   "outputs": [
    {
     "data": {
      "image/png": "[encoded data removed]",
      "text/plain": [
       "<Figure size 432x288 with 1 Axes>"
      ]
     },
     "metadata": {
      "needs_background": "light"
     },
     "output_type": "display_data"
    }
   ],
   "source": [
    "plot_child_collision(child_distribution,title=\"Child Distribution\")"
   ]
  },
  {
   "cell_type": "code",
   "execution_count": 108,
   "id": "5aace5bf",
   "metadata": {},
   "outputs": [],
   "source": [
    "node_level_dist,node_level = node_per_level(myGraph)"
   ]
  },
  {
   "cell_type": "code",
   "execution_count": 117,
   "id": "1a929995",
   "metadata": {},
   "outputs": [
    {
     "data": {
      "text/plain": [
       "OrderedDict([(9, 1),\n",
       "             (8, 9),\n",
       "             (7, 36),\n",
       "             (6, 84),\n",
       "             (5, 126),\n",
       "             (4, 126),\n",
       "             (3, 84),\n",
       "             (2, 36),\n",
       "             (1, 9),\n",
       "             (0, 1)])"
      ]
     },
     "execution_count": 117,
     "metadata": {},
     "output_type": "execute_result"
    }
   ],
   "source": [
    "node_level_dist ## 0 is the root, and higher"
   ]
  },
  {
   "cell_type": "code",
   "execution_count": 118,
   "id": "64a3d66a",
   "metadata": {},
   "outputs": [
    {
     "data": {
      "image/png": "[encoded data removed]",
      "text/plain": [
       "<Figure size 432x288 with 1 Axes>"
      ]
     },
     "metadata": {
      "needs_background": "light"
     },
     "output_type": "display_data"
    }
   ],
   "source": [
    "plot_node_level_distribution(node_level_dist, title=\"Node at each level\")"
   ]
  },
  {
   "cell_type": "code",
   "execution_count": 119,
   "id": "e025e466",
   "metadata": {},
   "outputs": [
    {
     "data": {
      "image/png": "[encoded data removed]",
      "text/plain": [
       "<Figure size 432x288 with 1 Axes>"
      ]
     },
     "metadata": {
      "needs_background": "light"
     },
     "output_type": "display_data"
    }
   ],
   "source": [
    "plot_scaling_benefit(node_level_dist,max_core=30)"
   ]
  },
  {
   "cell_type": "code",
   "execution_count": null,
   "id": "1a2b25e7",
   "metadata": {
    "scrolled": false
   },
   "outputs": [],
   "source": [
    "\n"
   ]
  },
  {
   "cell_type": "code",
   "execution_count": null,
   "id": "ce4d3684",
   "metadata": {},
   "outputs": [],
   "source": []
  },
  {
   "cell_type": "code",
   "execution_count": null,
   "id": "7a598892",
   "metadata": {
    "scrolled": false
   },
   "outputs": [],
   "source": [
    "\n"
   ]
  },
  {
   "cell_type": "code",
   "execution_count": null,
   "id": "b28e07db",
   "metadata": {},
   "outputs": [],
   "source": []
  },
  {
   "cell_type": "code",
   "execution_count": null,
   "id": "302a341b",
   "metadata": {},
   "outputs": [],
   "source": []
  },
  {
   "cell_type": "code",
   "execution_count": null,
   "id": "bd23835c",
   "metadata": {},
   "outputs": [],
   "source": []
  },
  {
   "cell_type": "markdown",
   "id": "d459d04a",
   "metadata": {},
   "source": [
    "# To print the actual tree structure \n",
    "### commented out as it breaks jupter-notebook remote"
   ]
  },
  {
   "cell_type": "code",
   "execution_count": 82,
   "id": "79222820",
   "metadata": {
    "scrolled": true
   },
   "outputs": [],
   "source": [
    "# from anytree import Node, RenderTree\n",
    "# from anytree.exporter import DotExporter\n",
    "\n",
    "# # Sample dictionary of lists with multiple roots\n",
    "\n",
    "\n",
    "# # Function to find all nodes that are roots (i.e., they don't appear as children anywhere)\n",
    "# def find_roots(data):\n",
    "#     all_children = {child for children in data.values() for child in children}\n",
    "#     return [key for key in data.keys() if key not in all_children]\n",
    "\n",
    "# # Recursive function to build each tree from its root\n",
    "# def build_tree(node_name, parent=None):\n",
    "#     node = Node(node_name, parent=parent)\n",
    "#     for child in myGraph.get(node_name, []):\n",
    "#         build_tree(child, node)\n",
    "#     return node\n",
    "\n",
    "# # Find all root nodes\n",
    "# roots = find_roots(myGraph)\n",
    "# print(\"Root Node: \", roots,\"\\n\")\n",
    "\n",
    "# # Build and visualize each tree\n",
    "# for root_name in roots:\n",
    "#     root_node = build_tree(root_name)\n",
    "#     print(f\"Tree for {root_name}:\")\n",
    "#     for pre, fill, node in RenderTree(root_node):\n",
    "#         print(f\"{pre}{node.name}\")\n",
    "#     print()  # Separate trees visually\n",
    "\n",
    "#     # Optionally, export each tree as an image\n",
    "# #     DotExporter(root_node).to_picture(f\"{root_name}_tree.png\")\n",
    "\n"
   ]
  },
  {
   "cell_type": "code",
   "execution_count": null,
   "id": "60482098",
   "metadata": {},
   "outputs": [],
   "source": []
  },
  {
   "cell_type": "code",
   "execution_count": null,
   "id": "30e99615",
   "metadata": {},
   "outputs": [],
   "source": []
  },
  {
   "cell_type": "code",
   "execution_count": null,
   "id": "7de85ef5",
   "metadata": {},
   "outputs": [],
   "source": []
  },
  {
   "cell_type": "code",
   "execution_count": null,
   "id": "f7537bd3",
   "metadata": {},
   "outputs": [],
   "source": [
    "\n",
    "\n"
   ]
  },
  {
   "cell_type": "code",
   "execution_count": null,
   "id": "9c30e4f7",
   "metadata": {},
   "outputs": [],
   "source": []
  },
  {
   "cell_type": "code",
   "execution_count": null,
   "id": "b5bb15f8",
   "metadata": {},
   "outputs": [],
   "source": []
  },
  {
   "cell_type": "code",
   "execution_count": null,
   "id": "5d9fcd83",
   "metadata": {},
   "outputs": [],
   "source": []
  },
  {
   "cell_type": "code",
   "execution_count": null,
   "id": "2859b478",
   "metadata": {},
   "outputs": [],
   "source": []
  },
  {
   "cell_type": "code",
   "execution_count": null,
   "id": "b4a2f9ca",
   "metadata": {},
   "outputs": [],
   "source": []
  },
  {
   "cell_type": "code",
   "execution_count": null,
   "id": "7de17b53",
   "metadata": {},
   "outputs": [],
   "source": [
    "\n",
    "    "
   ]
  },
  {
   "cell_type": "code",
   "execution_count": null,
   "id": "e865c3b2",
   "metadata": {},
   "outputs": [],
   "source": []
  },
  {
   "cell_type": "code",
   "execution_count": null,
   "id": "105264db",
   "metadata": {},
   "outputs": [],
   "source": []
  },
  {
   "cell_type": "code",
   "execution_count": null,
   "id": "762cee94",
   "metadata": {},
   "outputs": [],
   "source": []
  }
 ],
 "metadata": {
  "kernelspec": {
   "display_name": "Python 3",
   "language": "python",
   "name": "python3"
  },
  "language_info": {
   "codemirror_mode": {
    "name": "ipython",
    "version": 3
   },
   "file_extension": ".py",
   "mimetype": "text/x-python",
   "name": "python",
   "nbconvert_exporter": "python",
   "pygments_lexer": "ipython3",
   "version": "3.8.3"
  }
 },
 "nbformat": 4,
 "nbformat_minor": 5
}
