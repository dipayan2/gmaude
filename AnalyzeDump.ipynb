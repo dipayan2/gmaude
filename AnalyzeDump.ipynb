{
 "cells": [
  {
   "cell_type": "code",
   "execution_count": 1,
   "id": "246b6ae4",
   "metadata": {},
   "outputs": [],
   "source": [
    "## This code will analyze dump from the executable"
   ]
  },
  {
   "cell_type": "code",
   "execution_count": null,
   "id": "b5a1ef47",
   "metadata": {},
   "outputs": [],
   "source": [
    "/++"
   ]
  }
 ],
 "metadata": {
  "kernelspec": {
   "display_name": "Python 3",
   "language": "python",
   "name": "python3"
  },
  "language_info": {
   "codemirror_mode": {
    "name": "ipython",
    "version": 3
   },
   "file_extension": ".py",
   "mimetype": "text/x-python",
   "name": "python",
   "nbconvert_exporter": "python",
   "pygments_lexer": "ipython3",
   "version": "3.8.3"
  }
 },
 "nbformat": 4,
 "nbformat_minor": 5
}
